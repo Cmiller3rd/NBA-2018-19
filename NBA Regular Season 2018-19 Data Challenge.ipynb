{
 "cells": [
  {
   "cell_type": "markdown",
   "metadata": {},
   "source": [
    "# Nba Regular Season 2018-19 Data Challenge\n",
    "\n",
    "Your task will be to take the dataset given, and create an analysis answering the following 10 questions. This project will again test your knowledge of pandas in order to find the answers needed given the data you are presented with."
   ]
  },
  {
   "cell_type": "markdown",
   "metadata": {},
   "source": [
    "# What was the average age of player in the league?"
   ]
  },
  {
   "cell_type": "code",
   "execution_count": 1,
   "metadata": {},
   "outputs": [
    {
     "name": "stdout",
     "output_type": "stream",
     "text": [
      "Index(['Name', 'Height', 'Weight', 'Team', 'Age', 'Salary', 'Points', 'Blocks',\n",
      "       'Steals', 'Assists', 'Rebounds', 'FT%', 'FTA', 'FG3%', 'FG3A', 'FG%',\n",
      "       'FGA', 'MP', 'G', 'PER', 'OWS', 'DWS', 'WS', 'WS48', 'USG', 'BPM',\n",
      "       'VORP'],\n",
      "      dtype='object')\n",
      "The average player age in 2018-19 was 26\n"
     ]
    }
   ],
   "source": [
    "import pandas as pd\n",
    "\n",
    "data = pd.read_csv('../Data_Python_Files/nbastats2018-2019.csv')\n",
    "print(data.keys())\n",
    "avg_age = data.describe()['Age']['mean']\n",
    "print(f'The average player age in 2018-19 was {round(avg_age)}')"
   ]
  },
  {
   "cell_type": "markdown",
   "metadata": {},
   "source": [
    "# What player scored the most points?"
   ]
  },
  {
   "cell_type": "code",
   "execution_count": 11,
   "metadata": {},
   "outputs": [
    {
     "name": "stdout",
     "output_type": "stream",
     "text": [
      "The player with the most points was James Harden.\n"
     ]
    }
   ],
   "source": [
    "most_points = data.sort_values('Points', ascending=False).head()\n",
    "print(f'The player with the most points was {most_points.loc[202][\"Name\"]}.')\n"
   ]
  },
  {
   "cell_type": "markdown",
   "metadata": {},
   "source": [
    "# What player had the most blocks during the season? Was it a post player (F/C)?"
   ]
  },
  {
   "cell_type": "code",
   "execution_count": 46,
   "metadata": {},
   "outputs": [
    {
     "name": "stdout",
     "output_type": "stream",
     "text": [
      "Index(['Name', 'Height', 'Weight', 'Team', 'Age', 'Salary', 'Points', 'Blocks',\n",
      "       'Steals', 'Assists', 'Rebounds', 'FT%', 'FTA', 'FG3%', 'FG3A', 'FG%',\n",
      "       'FGA', 'MP', 'G', 'PER', 'OWS', 'DWS', 'WS', 'WS48', 'USG', 'BPM',\n",
      "       'VORP'],\n",
      "      dtype='object')\n",
      "The player with the most blocks was Myles Turner, with 2.7 blocks per game. He was likely a post player, given his 6'9\" height.\n"
     ]
    }
   ],
   "source": [
    "print(data.keys())\n",
    "\n",
    "# print(data.sort_values('Blocks', ascending=False).head(5))\n",
    "most_blocks = data[['Name', 'Blocks', 'Height']]\n",
    "most_blocks.sort_values('Blocks', ascending=False).head(20)\n",
    "\n",
    "print(f'The player with the most blocks was {most_blocks.loc[476][\"Name\"]}, with {most_blocks.loc[476][\"Blocks\"]} blocks per game.'\n",
    "      f' He was likely a post player, given his 6\\'9\" height.')"
   ]
  },
  {
   "cell_type": "markdown",
   "metadata": {},
   "source": [
    "# Based on the regular season, who had the best chance to win a title given their win percentage?"
   ]
  },
  {
   "cell_type": "code",
   "execution_count": 12,
   "metadata": {},
   "outputs": [
    {
     "name": "stdout",
     "output_type": "stream",
     "text": [
      "The player with the best chance to win a title based on win shares (WS) was James Harden.\n"
     ]
    }
   ],
   "source": [
    "title_player = data[['Name', 'WS']].sort_values('WS', ascending=False).head()\n",
    "\n",
    "print(f'The player with the best chance to win a title based on win shares (WS) was {title_player.loc[202][\"Name\"]}.')\n"
   ]
  },
  {
   "cell_type": "markdown",
   "metadata": {},
   "source": [
    "# What player had the best 3-pt percentage? "
   ]
  },
  {
   "cell_type": "code",
   "execution_count": 14,
   "metadata": {},
   "outputs": [
    {
     "name": "stdout",
     "output_type": "stream",
     "text": [
      "The player with the best 3-pt percentage (factoring in attempted 3-point shots) was Jordan Sibert.\n"
     ]
    }
   ],
   "source": [
    "three_pt_pct = data[['Name', 'FG3%', 'FG3A']].sort_values(['FG3%', 'FG3A'], ascending=False).head()\n",
    "\n",
    "print(f'The player with the best 3-pt percentage (factoring in attempted 3-point shots) was {three_pt_pct.loc[439][\"Name\"]}.')"
   ]
  },
  {
   "cell_type": "markdown",
   "metadata": {},
   "source": [
    "# Who played the most minutes during the season"
   ]
  },
  {
   "cell_type": "code",
   "execution_count": 15,
   "metadata": {},
   "outputs": [
    {
     "name": "stdout",
     "output_type": "stream",
     "text": [
      "Paul George played the most minutes during the 2018-19 season.\n"
     ]
    }
   ],
   "source": [
    "most_played = data[['Name', 'MP']].sort_values('MP', ascending=False).head()\n",
    "\n",
    "print(f'{most_played.loc[179][\"Name\"]} played the most minutes during the 2018-19 season.')"
   ]
  },
  {
   "cell_type": "markdown",
   "metadata": {},
   "source": [
    "# What player given their player effiecency rating was the clutchest during the season?"
   ]
  },
  {
   "cell_type": "code",
   "execution_count": 16,
   "metadata": {},
   "outputs": [
    {
     "name": "stdout",
     "output_type": "stream",
     "text": [
      "Zhou Qi was the \"clutchest\" plyaer during the 2018-19 season by a long shot.\n"
     ]
    }
   ],
   "source": [
    "clutch_player = data[['Name', 'PER']].sort_values('PER', ascending=False).head()\n",
    "print(f\"{clutch_player.loc[405]['Name']} was the \\\"clutchest\\\" plyaer during the 2018-19 season by a long shot.\")"
   ]
  },
  {
   "cell_type": "markdown",
   "metadata": {},
   "source": [
    "# What team had the youngest roster?"
   ]
  },
  {
   "cell_type": "code",
   "execution_count": 17,
   "metadata": {},
   "outputs": [
    {
     "name": "stdout",
     "output_type": "stream",
     "text": [
      "The Chicago Bulls had the youngest roster.\n"
     ]
    }
   ],
   "source": [
    "youngest_r = data.groupby('Team', as_index = False)['Age'].mean().sort_values(\"Age\").reset_index().head()\n",
    "\n",
    "print(f\"The {youngest_r.loc[0]['Team']} had the youngest roster.\")"
   ]
  },
  {
   "cell_type": "markdown",
   "metadata": {},
   "source": [
    "# Who is the highest paid player during the seasion?"
   ]
  },
  {
   "cell_type": "code",
   "execution_count": 18,
   "metadata": {},
   "outputs": [
    {
     "name": "stdout",
     "output_type": "stream",
     "text": [
      "<class 'str'>\n",
      "The highest paid player in the 2018-2019 season was Stephen Curry.\n"
     ]
    }
   ],
   "source": [
    "print(type(data['Salary'].loc[202]))\n",
    "data['Salary'] = pd.to_numeric(data['Salary'], errors='coerce')\n",
    "salaries = data[['Name', 'Salary']].sort_values('Salary', ascending=False)\n",
    "\n",
    "print(f'The highest paid player in the 2018-2019 season was {salaries.loc[121][\"Name\"]}.')\n"
   ]
  },
  {
   "cell_type": "markdown",
   "metadata": {},
   "source": [
    "# At the end of a game, who WOULDN'T you want on the Free Throw Line?"
   ]
  },
  {
   "cell_type": "code",
   "execution_count": 19,
   "metadata": {},
   "outputs": [
    {
     "name": "stdout",
     "output_type": "stream",
     "text": [
      "\n",
      " The player with the worst free throw percentage (who attemped at least 1 free throw per game) was Jacob Evans\n"
     ]
    }
   ],
   "source": [
    "data.keys()\n",
    "bad_free_throw = data[['Name', 'FT%', 'FTA']].sort_values(['FT%', 'FTA']).head(10)\n",
    "\n",
    "print(f'\\n The player with the worst free throw percentage (who attemped at least 1 free throw per game) was {bad_free_throw.loc[154][\"Name\"]}')"
   ]
  }
 ],
 "metadata": {
  "kernelspec": {
   "display_name": "Python 3 (ipykernel)",
   "language": "python",
   "name": "python3"
  },
  "language_info": {
   "codemirror_mode": {
    "name": "ipython",
    "version": 3
   },
   "file_extension": ".py",
   "mimetype": "text/x-python",
   "name": "python",
   "nbconvert_exporter": "python",
   "pygments_lexer": "ipython3",
   "version": "3.11.5"
  }
 },
 "nbformat": 4,
 "nbformat_minor": 4
}
