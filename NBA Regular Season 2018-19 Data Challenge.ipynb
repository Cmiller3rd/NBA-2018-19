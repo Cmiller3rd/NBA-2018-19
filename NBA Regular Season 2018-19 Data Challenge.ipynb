{
 "cells": [
  {
   "cell_type": "markdown",
   "metadata": {},
   "source": [
    "# Nba Regular Season 2018-19 Data Challenge\n",
    "\n",
    "Your task will be to take the dataset given, and create an analysis answering the following 10 questions. This project will again test your knowledge of pandas in order to find the answers needed given the data you are presented with."
   ]
  },
  {
   "cell_type": "markdown",
   "metadata": {},
   "source": [
    "# What was the average age of player in the league?"
   ]
  },
  {
   "cell_type": "code",
   "execution_count": 196,
   "metadata": {},
   "outputs": [
    {
     "name": "stdout",
     "output_type": "stream",
     "text": [
      "Index(['Name', 'Height', 'Weight', 'Team', 'Age', 'Salary', 'Points', 'Blocks',\n",
      "       'Steals', 'Assists', 'Rebounds', 'FT%', 'FTA', 'FG3%', 'FG3A', 'FG%',\n",
      "       'FGA', 'MP', 'G', 'PER', 'OWS', 'DWS', 'WS', 'WS48', 'USG', 'BPM',\n",
      "       'VORP'],\n",
      "      dtype='object')\n",
      "The average player age in 2018-19 was 26\n"
     ]
    }
   ],
   "source": [
    "import pandas as pd\n",
    "\n",
    "data = pd.read_csv('../Data_Python_Files/nbastats2018-2019.csv')\n",
    "print(data.keys())\n",
    "avg_age = data.describe()['Age']['mean']\n",
    "print(f'The average player age in 2018-19 was {round(avg_age)}')"
   ]
  },
  {
   "cell_type": "markdown",
   "metadata": {},
   "source": [
    "# What player scored the most points?"
   ]
  },
  {
   "cell_type": "code",
   "execution_count": 197,
   "metadata": {},
   "outputs": [
    {
     "name": "stdout",
     "output_type": "stream",
     "text": [
      "                      Name  Height  Weight                   Team  Age  \\\n",
      "202           James Harden      77     220        Houston Rockets   29   \n",
      "179            Paul George      81     220  Oklahoma City Thunder   28   \n",
      "15   Giannis Antetokounmpo      83     242        Milwaukee Bucks   24   \n",
      "151            Joel Embiid      84     250     Philadelphia 76ers   24   \n",
      "253           LeBron James      80     250     Los Angeles Lakers   34   \n",
      "\n",
      "       Salary  Points  Blocks  Steals  Assists  ...    MP   G   PER   OWS  \\\n",
      "202  30431854    36.1     0.7     2.0      7.5  ...  36.8  78  30.6  11.4   \n",
      "179  30560700    28.0     0.4     2.2      4.1  ...  36.9  77  23.3   7.0   \n",
      "15   24157304    27.7     1.5     1.3      5.9  ...  32.8  72  30.9   8.9   \n",
      "151  25467250    27.5     1.9     0.7      3.7  ...  33.7  64  26.1   4.9   \n",
      "253  35654150    27.4     0.6     1.3      8.3  ...  35.2  55  25.6   4.7   \n",
      "\n",
      "     DWS    WS   WS48   USG   BPM  VORP  \n",
      "202  3.8  15.2  0.254  40.5  11.7   9.9  \n",
      "179  4.9  11.9  0.201  29.5   5.5   5.3  \n",
      "15   5.5  14.4  0.292  32.3  10.8   7.6  \n",
      "151  3.8   8.7  0.194  33.3   4.1   3.3  \n",
      "253  2.6   7.2  0.179  31.6   8.1   4.9  \n",
      "\n",
      "[5 rows x 27 columns]\n",
      "The player with the most points was James Harden.\n"
     ]
    }
   ],
   "source": [
    "print(data.sort_values('Points', ascending=False).head(5))\n",
    "most_points = data.sort_values('Points', ascending=False).loc[202]['Name']\n",
    "\n",
    "print(f'The player with the most points was {most_points}.')\n"
   ]
  },
  {
   "cell_type": "markdown",
   "metadata": {},
   "source": [
    "# What player had the most blocks during the season? Was it a post player (F/C)?"
   ]
  },
  {
   "cell_type": "code",
   "execution_count": 198,
   "metadata": {},
   "outputs": [
    {
     "name": "stdout",
     "output_type": "stream",
     "text": [
      "Index(['Name', 'Height', 'Weight', 'Team', 'Age', 'Salary', 'Points', 'Blocks',\n",
      "       'Steals', 'Assists', 'Rebounds', 'FT%', 'FTA', 'FG3%', 'FG3A', 'FG%',\n",
      "       'FGA', 'MP', 'G', 'PER', 'OWS', 'DWS', 'WS', 'WS48', 'USG', 'BPM',\n",
      "       'VORP'],\n",
      "      dtype='object')\n",
      "                  Name  Height  Weight                  Team  Age    Salary  \\\n",
      "476       Myles Turner      83     250        Indiana Pacers   22   3410284   \n",
      "123      Anthony Davis      82     253  New Orleans Pelicans   25  25434263   \n",
      "419  Mitchell Robinson      85     240       New York Knicks   20   1485440   \n",
      "183        Rudy Gobert      85     245             Utah Jazz   26  23241573   \n",
      "303        Brook Lopez      84     270       Milwaukee Bucks   30   3382000   \n",
      "\n",
      "     Points  Blocks  Steals  Assists  ...    MP   G   PER  OWS  DWS    WS  \\\n",
      "476    13.3     2.7     0.8      1.6  ...  28.6  74  18.0  1.9  4.4   6.3   \n",
      "123    25.9     2.4     1.6      3.9  ...  33.0  56  30.3  6.4  3.1   9.5   \n",
      "419     7.3     2.4     0.8      0.6  ...  20.6  66  22.0  4.0  2.2   6.1   \n",
      "183    15.9     2.3     0.8      2.0  ...  31.8  81  24.6  8.7  5.7  14.4   \n",
      "303    12.5     2.2     0.6      1.2  ...  28.7  81  14.6  2.3  4.3   6.7   \n",
      "\n",
      "      WS48   USG  BPM  VORP  \n",
      "476  0.144  20.0  3.3   2.8  \n",
      "123  0.247  29.5  8.5   4.9  \n",
      "419  0.217  12.1  5.7   2.7  \n",
      "183  0.268  17.8  7.0   5.9  \n",
      "303  0.138  16.7  2.7   2.8  \n",
      "\n",
      "[5 rows x 27 columns]\n",
      "                 Name  Height  Weight                  Team  Age    Salary  \\\n",
      "318  Boban Marjanovic      87     290    Philadelphia 76ers   30   7000000   \n",
      "336       Salah Mejri      86     235      Dallas Mavericks   32   1567007   \n",
      "520       Ivica Zubac      85     240  Los Angeles Clippers   21   1544951   \n",
      "183       Rudy Gobert      85     245             Utah Jazz   26  23241573   \n",
      "405           Zhou Qi      85     210       Houston Rockets   23    506134   \n",
      "\n",
      "     Points  Blocks  Steals  Assists  ...    MP   G   PER  OWS  DWS    WS  \\\n",
      "318     7.3     0.5     0.3      0.9  ...  11.7  58  24.2  2.1  0.9   3.0   \n",
      "336     3.9     0.7     0.3      1.0  ...  11.1  36  16.1  0.5  0.6   1.1   \n",
      "520     8.9     0.9     0.2      1.1  ...  17.6  59  18.9  1.9  1.3   3.2   \n",
      "183    15.9     2.3     0.8      2.0  ...  31.8  81  24.6  8.7  5.7  14.4   \n",
      "405     2.0     0.0     0.0      0.0  ...   1.0   1  80.4  0.0  0.0   0.0   \n",
      "\n",
      "      WS48   USG  BPM  VORP  \n",
      "318  0.212  23.3  1.9   0.7  \n",
      "336  0.136  15.8  1.9   0.4  \n",
      "520  0.148  20.3 -0.3   0.5  \n",
      "183  0.268  17.8  7.0   5.9  \n",
      "405  1.261  43.4  9.5   0.0  \n",
      "\n",
      "[5 rows x 27 columns]\n",
      "The player with the most blocks was Myles Turner. He was likely a post player, given his 6'9\" height.\n"
     ]
    }
   ],
   "source": [
    "print(data.keys())\n",
    "\n",
    "print(data.sort_values('Blocks', ascending=False).head(5))\n",
    "most_blocks = data.sort_values('Blocks', ascending=False).loc[476]['Name']\n",
    "height_data = data.sort_values('Height', ascending=False)\n",
    "print(height_data.head(5))\n",
    "\n",
    "print(f'The player with the most blocks was {most_blocks}. He was likely a post player, given his 6\\'9\" height.')"
   ]
  },
  {
   "cell_type": "markdown",
   "metadata": {},
   "source": [
    "# Based on the regular season, who had the best chance to win a title given their win percentage?"
   ]
  },
  {
   "cell_type": "code",
   "execution_count": 199,
   "metadata": {},
   "outputs": [
    {
     "name": "stdout",
     "output_type": "stream",
     "text": [
      "                      Name  Height  Weight                    Team  Age  \\\n",
      "202           James Harden      77     220         Houston Rockets   29   \n",
      "183            Rudy Gobert      85     245               Utah Jazz   26   \n",
      "15   Giannis Antetokounmpo      83     242         Milwaukee Bucks   24   \n",
      "299         Damian Lillard      75     195  Portland Trail Blazers   28   \n",
      "179            Paul George      81     220   Oklahoma City Thunder   28   \n",
      "\n",
      "       Salary  Points  Blocks  Steals  Assists  ...    MP   G   PER   OWS  \\\n",
      "202  30431854    36.1     0.7     2.0      7.5  ...  36.8  78  30.6  11.4   \n",
      "183  23241573    15.9     2.3     0.8      2.0  ...  31.8  81  24.6   8.7   \n",
      "15   24157304    27.7     1.5     1.3      5.9  ...  32.8  72  30.9   8.9   \n",
      "299  27977689    25.8     0.4     1.1      6.9  ...  35.5  80  23.7   9.7   \n",
      "179  30560700    28.0     0.4     2.2      4.1  ...  36.9  77  23.3   7.0   \n",
      "\n",
      "     DWS    WS   WS48   USG   BPM  VORP  \n",
      "202  3.8  15.2  0.254  40.5  11.7   9.9  \n",
      "183  5.7  14.4  0.268  17.8   7.0   5.9  \n",
      "15   5.5  14.4  0.292  32.3  10.8   7.6  \n",
      "299  2.4  12.1  0.205  29.3   5.5   5.4  \n",
      "179  4.9  11.9  0.201  29.5   5.5   5.3  \n",
      "\n",
      "[5 rows x 27 columns]\n",
      "The player with the best chance to win a title based on win shares (WS) was James Harden.\n"
     ]
    }
   ],
   "source": [
    "print(data.sort_values('WS', ascending=False).head(5))\n",
    "title_player = data.sort_values('WS', ascending=False).loc[202]['Name']\n",
    "print(f'The player with the best chance to win a title based on win shares (WS) was {title_player}.')\n"
   ]
  },
  {
   "cell_type": "markdown",
   "metadata": {},
   "source": [
    "# What player had the best 3-pt percentage? "
   ]
  },
  {
   "cell_type": "code",
   "execution_count": 200,
   "metadata": {},
   "outputs": [
    {
     "name": "stdout",
     "output_type": "stream",
     "text": [
      "              Name   FG3%  FG3A\n",
      "312  Scott Machado  1.000   0.3\n",
      "439  Jordan Sibert  1.000   1.0\n",
      "147   Trevon Duval  1.000   0.3\n",
      "352  Eric Moreland  1.000   0.2\n",
      "95    Troy Caupain  0.667   0.8\n",
      "The player with the best 3-pt percentage (factoring in attempted 3-point shots) was Scott Machado.\n"
     ]
    }
   ],
   "source": [
    "print(data[['Name', 'FG3%', 'FG3A']].sort_values('FG3%', ascending=False).head(5))\n",
    "\n",
    "three_pt_pct = data.sort_values('FG3%', ascending=False).loc[312]['Name']\n",
    "\n",
    "print(f'The player with the best 3-pt percentage (factoring in attempted 3-point shots) was {three_pt_pct}.')"
   ]
  },
  {
   "cell_type": "markdown",
   "metadata": {},
   "source": [
    "# Who played the most minutes during the season"
   ]
  },
  {
   "cell_type": "code",
   "execution_count": 201,
   "metadata": {},
   "outputs": [
    {
     "name": "stdout",
     "output_type": "stream",
     "text": [
      "Paul George played the most minutes during the 2018-19 season.\n"
     ]
    }
   ],
   "source": [
    "data[['Name', 'MP']].sort_values('MP', ascending=False).head(5)\n",
    "most_played = data.sort_values('MP', ascending=False).loc[179]['Name']\n",
    "print(f'{most_played} played the most minutes during the 2018-19 season.')"
   ]
  },
  {
   "cell_type": "markdown",
   "metadata": {},
   "source": [
    "# What player given their player effiecency rating was the clutchest during the season?"
   ]
  },
  {
   "cell_type": "code",
   "execution_count": 202,
   "metadata": {},
   "outputs": [
    {
     "name": "stdout",
     "output_type": "stream",
     "text": [
      "Zhou Qi was the \"clutchest\" during the 2018-19 season by a long shot.\n"
     ]
    }
   ],
   "source": [
    "data[['Name', 'PER']].sort_values('PER', ascending=False).head(5)\n",
    "clutch_player = data.sort_values('PER').loc[405]['Name']\n",
    "print(f\"{clutch_player} was the \\\"clutchest\\\" during the 2018-19 season by a long shot.\")"
   ]
  },
  {
   "cell_type": "markdown",
   "metadata": {},
   "source": [
    "# What team had the youngest roster?"
   ]
  },
  {
   "cell_type": "code",
   "execution_count": 203,
   "metadata": {},
   "outputs": [
    {
     "name": "stdout",
     "output_type": "stream",
     "text": [
      "The Atlanta Hawks had the youngest roster.\n"
     ]
    }
   ],
   "source": [
    "data[['Team', 'Age']].groupby('Team').mean().reset_index().head(5)\n",
    "youngest_r = data[['Team', 'Age']].groupby('Team').mean().reset_index().loc[0]['Team']\n",
    "print(f\"The {youngest_r} had the youngest roster.\")"
   ]
  },
  {
   "cell_type": "markdown",
   "metadata": {},
   "source": [
    "# Who is the highest paid player during the seasion?"
   ]
  },
  {
   "cell_type": "code",
   "execution_count": 209,
   "metadata": {},
   "outputs": [
    {
     "name": "stdout",
     "output_type": "stream",
     "text": [
      "<class 'numpy.float64'>\n",
      "The highest paid player in the 2018-2019 season was Stephen Curry.\n"
     ]
    }
   ],
   "source": [
    "print(type(data['Salary'].loc[202]))\n",
    "data['Salary'] = pd.to_numeric(data['Salary'], errors='coerce')\n",
    "salaries = data[['Name', 'Salary']].sort_values('Salary', ascending=False).loc[121]['Name']\n",
    "\n",
    "print(f'The highest paid player in the 2018-2019 season was {salaries}.')\n"
   ]
  },
  {
   "cell_type": "markdown",
   "metadata": {},
   "source": [
    "# At the end of a game, who WOULDN'T you want on the Free Throw Line?"
   ]
  },
  {
   "cell_type": "code",
   "execution_count": 229,
   "metadata": {},
   "outputs": [
    {
     "name": "stdout",
     "output_type": "stream",
     "text": [
      "\n",
      "                    Name    FT%  FTA\n",
      "268      Terrence Jones  0.000  0.5\n",
      "221   Haywood Highsmith  0.000  0.4\n",
      "356  Donatas Motiejunas  0.000  0.7\n",
      "502       C.J. Williams  0.000  0.1\n",
      "154         Jacob Evans  0.000  0.0\n",
      "360         Dzanan Musa  0.000  0.2\n",
      "325      Tahjere McCall  0.000  1.0\n",
      "168      Melvin Frazier  0.250  0.4\n",
      "451        Ray Spalding  0.333  0.9\n",
      "310         Tyler Lydon  0.333  0.1\n",
      "\n",
      " The player with the worst free throw percentage (who attemped at least 1 free throw per game) was Tahjere McCall\n"
     ]
    }
   ],
   "source": [
    "data.keys()\n",
    "bad_free_throw = data[['Name', 'FT%', 'FTA']].sort_values('FT%').head(10)\n",
    "print(\"\\n\", bad_free_throw)\n",
    "bad_free_throw_ans = data[['Name', 'FT%', 'FTA']].sort_values('FT%').loc[325]['Name']\n",
    "print(f'\\n The player with the worst free throw percentage (who attemped at least 1 free throw per game) was {bad_free_throw_ans}')"
   ]
  }
 ],
 "metadata": {
  "kernelspec": {
   "display_name": "Python 3 (ipykernel)",
   "language": "python",
   "name": "python3"
  },
  "language_info": {
   "codemirror_mode": {
    "name": "ipython",
    "version": 3
   },
   "file_extension": ".py",
   "mimetype": "text/x-python",
   "name": "python",
   "nbconvert_exporter": "python",
   "pygments_lexer": "ipython3",
   "version": "3.11.5"
  }
 },
 "nbformat": 4,
 "nbformat_minor": 4
}
